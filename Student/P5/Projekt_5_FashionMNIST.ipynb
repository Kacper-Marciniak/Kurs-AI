{
 "cells": [
  {
   "cell_type": "markdown",
   "metadata": {},
   "source": [
    "### Wczytanie danych z biblioteki TorchVision"
   ]
  },
  {
   "cell_type": "code",
   "execution_count": null,
   "metadata": {},
   "outputs": [],
   "source": [
    "from torchvision.datasets import FashionMNIST\n",
    "import torchvision.transforms as transforms\n",
    "import numpy as np\n",
    "from torch.utils.data import DataLoader\n",
    "\n",
    "\n",
    "# transformacje dla pre-processingu\n",
    "transform = transforms.Compose(\n",
    "    [\n",
    "        transforms.ToTensor(),\n",
    "        transforms.Normalize((0.286,), (0.353,))\n",
    "    ]\n",
    ")\n",
    "\n",
    "# FashionMNIST dataset\n",
    "train_dataset = FashionMNIST(root='./data', train=True, download=True, transform=transform)\n",
    "test_dataset = FashionMNIST(root='./data', train=False, download=True, transform=transform)\n",
    "\n",
    "# Data loader\n",
    "batch_size = 128\n",
    "\n",
    "train_dataloader = DataLoader(train_dataset, batch_size=batch_size, shuffle=True)\n",
    "test_dataloader = DataLoader(test_dataset, batch_size=batch_size, shuffle=False)"
   ]
  },
  {
   "cell_type": "markdown",
   "metadata": {},
   "source": [
    "### EDA"
   ]
  },
  {
   "cell_type": "code",
   "execution_count": null,
   "metadata": {},
   "outputs": [],
   "source": [
    "from matplotlib import pyplot as plt\n",
    "LABELS = {\n",
    "  0: \"T-shirt/top\",\n",
    "  1: \"Trouser\",\n",
    "  2: \"Pullover\",\n",
    "  3: \"Dress\",\n",
    "  4: \"Coat\",\n",
    "  5: \"Sandal\",\n",
    "  6: \"Shirt\",\n",
    "  7: \"Sneaker\",\n",
    "  8: \"Bag\",\n",
    "  9: \"Ankle boot\"\n",
    "}\n",
    "\n",
    "fig, axes = plt.subplots(ncols=3, nrows=5, figsize=(4, 5))\n",
    "axes = axes.flatten()\n",
    "\n",
    "for i,(img, label) in enumerate(train_dataset):\n",
    "  if i >= 15: break\n",
    "\n",
    "  axes[i].imshow(img[0, :, :], cmap=\"gray\")\n",
    "  axes[i].axis(\"off\")\n",
    "  axes[i].set_title(LABELS[label])\n",
    "\n",
    "plt.tight_layout()\n",
    "plt.show()"
   ]
  },
  {
   "cell_type": "markdown",
   "metadata": {},
   "source": [
    "### Definiowane dwóch modeli konwolucyjnych"
   ]
  },
  {
   "cell_type": "code",
   "execution_count": null,
   "metadata": {},
   "outputs": [],
   "source": [
    "# WŁASNA SIEĆ NEURONOWA\n",
    "\n",
    "import torch\n",
    "import torch.nn as nn\n",
    "import torch.nn.functional as F\n",
    "\n",
    "\n",
    "class CustomCNN(nn.Module):\n",
    "    def __init__(self):\n",
    "        super().__init__()\n",
    "        # Convolutional layers\n",
    "        self.conv1 = nn.Conv2d(in_channels=1, out_channels=8, kernel_size=3)        \n",
    "        self.conv2 = nn.Conv2d(in_channels=8, out_channels=16, kernel_size=3)\n",
    "        # Pooling layer\n",
    "        self.pool = nn.AvgPool2d(kernel_size=2, stride=2)\n",
    "        # ReLU\n",
    "        self.relu = nn.ReLU()\n",
    "        # Bottleneck pool\n",
    "        self.bottleneck = nn.Conv2d(in_channels=16, out_channels=32, kernel_size=5)\n",
    "        # Fully connected layers\n",
    "        self.fc1 = nn.Linear(32, 128)\n",
    "        self.fc2 = nn.Linear(128, 64)\n",
    "        self.fc3 = nn.Linear(64, 10)\n",
    "\n",
    "    def forward(self, x):\n",
    "        x = self.pool(self.relu(self.conv1(x))) # Conv block 1\n",
    "        x = self.pool(self.relu(self.conv2(x))) # Conv block 2\n",
    "        x = self.relu(self.bottleneck(x)) # Conv block 3 - bottleneck\n",
    "        x = torch.flatten(x, 1) # Flatten from B C H W to B C\n",
    "        x = self.relu(self.fc1(x)) # Linear layer 1\n",
    "        x = self.relu(self.fc2(x)) # Linear layer 2\n",
    "        x = self.fc3(x)\n",
    "        return x\n",
    "    \n",
    "model_custom = CustomCNN()"
   ]
  },
  {
   "cell_type": "code",
   "execution_count": null,
   "metadata": {},
   "outputs": [],
   "source": [
    "# RESNET18\n",
    "from torchvision.models import resnet18, ResNet18_Weights\n",
    "\n",
    "model_resnet = resnet18(weights=ResNet18_Weights.IMAGENET1K_V1)\n",
    "\n",
    "model_resnet.conv1 = nn.Conv2d(1, 64, kernel_size=7, stride=2, padding=3,bias=False) # Zmiana pierwszej warstwy konwolucyjnej na 1 kanał ze dla zdjęć GRAYSCALE"
   ]
  },
  {
   "cell_type": "code",
   "execution_count": null,
   "metadata": {},
   "outputs": [],
   "source": [
    "print(f\"Custom model: {sum(p.numel() for p in model_custom.parameters() if p.requires_grad)} trenowalnych parametrów\")"
   ]
  },
  {
   "cell_type": "code",
   "execution_count": null,
   "metadata": {},
   "outputs": [],
   "source": [
    "print(f\"ResNet18: {sum(p.numel() for p in model_resnet.parameters() if p.requires_grad)} trenowalnych parametrów\")"
   ]
  },
  {
   "cell_type": "code",
   "execution_count": null,
   "metadata": {},
   "outputs": [],
   "source": [
    "!pip install torchview\n",
    "from torchview import draw_graph"
   ]
  },
  {
   "cell_type": "code",
   "execution_count": null,
   "metadata": {},
   "outputs": [],
   "source": [
    "\n",
    "model_visualizer = draw_graph(model_custom, input_size=(batch_size, 1, 28, 28)) # input_size=(batch_size, 1, 28, 28) - rozmiar wejściowy (B, C, H, W)\n",
    "model_visualizer.visual_graph"
   ]
  },
  {
   "cell_type": "code",
   "execution_count": null,
   "metadata": {},
   "outputs": [],
   "source": [
    "model_visualizer = draw_graph(model_resnet, input_size=(batch_size, 1, 28, 28)) # input_size=(batch_size, 1, 28, 28) - rozmiar wejściowy (B, C, H, W)\n",
    "model_visualizer.visual_graph"
   ]
  },
  {
   "cell_type": "markdown",
   "metadata": {},
   "source": [
    "### Trening modeli"
   ]
  },
  {
   "cell_type": "code",
   "execution_count": null,
   "metadata": {},
   "outputs": [],
   "source": [
    "def plot_loss(train_loss, val_loss, val_accuracy, save_name):\n",
    "\n",
    "    fig, axes = plt.subplots(ncols=2, figsize=(8, 4))\n",
    "\n",
    "    \n",
    "    axes[0].plot(val_loss, marker='.', label='Validation')\n",
    "    axes[0].plot(train_loss, marker='.', label='Train')\n",
    "    axes[1].plot(val_accuracy, marker='.', label='Validation')\n",
    "\n",
    "    axes[0].legend()\n",
    "    axes[1].legend()\n",
    "\n",
    "    axes[0].set_xlabel(\"Epoch\")\n",
    "    axes[0].set_ylabel(\"Loss\")\n",
    "    \n",
    "    axes[1].set_xlabel(\"Epoch\")\n",
    "    axes[1].set_ylabel(\"Accuracy\")\n",
    "\n",
    "    axes[0].set_xticks(np.arange(0, len(train_loss), 1))\n",
    "    axes[0].set_xticklabels(np.arange(1, len(train_loss) + 1, 1))\n",
    "    \n",
    "    axes[1].set_xticks(np.arange(0, len(val_accuracy), 1))\n",
    "    axes[1].set_xticklabels(np.arange(1, len(val_accuracy) + 1, 1))\n",
    "\n",
    "    fig.tight_layout()\n",
    "    fig.show()\n",
    "    \n",
    "    fig.savefig(save_name, dpi=300, bbox_inches='tight')"
   ]
  },
  {
   "cell_type": "code",
   "execution_count": null,
   "metadata": {},
   "outputs": [],
   "source": [
    "from torch import optim\n",
    "from tqdm import tqdm\n",
    "\n",
    "def train(model, save_name, epochs=5, learning_rate=1e-3):\n",
    "    device = torch.device(\"cuda\" if torch.cuda.is_available() else \"cpu\")\n",
    "    device_name = torch.cuda.get_device_name(0) if torch.cuda.is_available() else \"CPU\"\n",
    "    print(f\"Device: {device_name}\")\n",
    "\n",
    "    model.to(device)\n",
    "\n",
    "    criterion = nn.CrossEntropyLoss()\n",
    "    optimizer = optim.Adam(model.parameters(), lr=learning_rate)\n",
    "\n",
    "    train_loss = []\n",
    "    val_loss = []\n",
    "    val_accuracy = []\n",
    "\n",
    "    for epoch in range(epochs):\n",
    "        \n",
    "        model.train()\n",
    "        losses = []\n",
    "        \n",
    "        tqdm_train = tqdm(enumerate(train_dataloader, 0),desc=f\"[{epoch + 1}/{epochs}] Training\", total=len(train_dataloader))\n",
    "        for i, (inputs, labels) in tqdm_train:\n",
    "            # move inputs and labels to the device\n",
    "            inputs, labels = inputs.to(device), labels.to(device)\n",
    "\n",
    "            # zero the parameter gradients\n",
    "            optimizer.zero_grad()\n",
    "\n",
    "            # forward + backward + optimize\n",
    "            outputs = model(inputs)\n",
    "            loss = criterion(outputs, labels)\n",
    "            loss.backward()\n",
    "            optimizer.step()\n",
    "\n",
    "            losses.append(loss.item())\n",
    "\n",
    "            tqdm_train.set_description(f\"[{epoch + 1}/{epochs}] Training | Avg. Loss: {np.mean(losses):.4f}\")\n",
    "\n",
    "        train_loss.append(np.mean(losses))\n",
    "\n",
    "        # validation loss\n",
    "        model.eval()\n",
    "        losses = []\n",
    "        correct_preds = 0\n",
    "\n",
    "        tqdm_test = tqdm(enumerate(test_dataloader),desc=f\"[{epoch + 1}/{epochs}] Validation\", total=len(test_dataloader))\n",
    "        for i, (inputs, labels) in tqdm_test:\n",
    "            # move inputs and labels to the device\n",
    "            inputs, labels = inputs.to(device), labels.to(device)\n",
    "            \n",
    "            outputs = model(inputs)\n",
    "            loss = criterion(outputs, labels)\n",
    "            losses.append(loss.item())\n",
    "            correct_preds += (F.softmax(outputs, dim=1).argmax(dim=1) == labels).float().mean().item()\n",
    "\n",
    "            tqdm_test.set_description(f\"[{epoch + 1}/{epochs}] Validation | Avg. Loss: {np.mean(losses):.4f}\")\n",
    "\n",
    "        val_accuracy.append(correct_preds/len(test_dataloader))\n",
    "        val_loss.append(np.mean(losses))\n",
    "        \n",
    "        # print loss\n",
    "        print(f'\\ttrain loss: {train_loss[-1]:.4f} | val loss: {val_loss[-1]:.4f} | val acc.: {val_accuracy[-1]*100.0:.2f}\\n')\n",
    "\n",
    "    torch.save(model.state_dict(), save_name)\n",
    "\n",
    "    return train_loss, val_loss, val_accuracy"
   ]
  },
  {
   "cell_type": "code",
   "execution_count": null,
   "metadata": {},
   "outputs": [],
   "source": [
    "train_loss, val_loss, val_accuracy = train(model_custom, 'model_custom.pth', epochs=10, learning_rate=1e-3)"
   ]
  },
  {
   "cell_type": "code",
   "execution_count": null,
   "metadata": {},
   "outputs": [],
   "source": [
    "plot_loss(train_loss, val_loss, val_accuracy, 'model_custom.png')"
   ]
  },
  {
   "cell_type": "code",
   "execution_count": null,
   "metadata": {},
   "outputs": [],
   "source": [
    "train_loss, val_loss, val_accuracy = train(model_resnet, 'model_resnet.pth', epochs=10, learning_rate=1e-3)"
   ]
  },
  {
   "cell_type": "code",
   "execution_count": null,
   "metadata": {},
   "outputs": [],
   "source": [
    "plot_loss(train_loss, val_loss, val_accuracy, 'model_resnet.png')"
   ]
  },
  {
   "cell_type": "code",
   "execution_count": null,
   "metadata": {},
   "outputs": [],
   "source": [
    "del model_custom, model_resnet"
   ]
  },
  {
   "cell_type": "markdown",
   "metadata": {},
   "source": [
    "\"Jeszcze jedna epoka ...\" - zagadnienie przetrenowania modeli\n",
    "\n",
    "<img src=\"https://raw.githubusercontent.com/Kacper-Marciniak/Kurs-AI/main/Student/P5/model_overfitting.png\" alt=\"overfitting\" width=\"75%\"/>"
   ]
  },
  {
   "cell_type": "markdown",
   "metadata": {},
   "source": [
    "### Walidacja modelu na zbiorze testowym"
   ]
  },
  {
   "cell_type": "code",
   "execution_count": null,
   "metadata": {},
   "outputs": [],
   "source": [
    "# 1.6. Czytanie modelu\n",
    "\n",
    "model_custom = CustomCNN()\n",
    "model_resnet = resnet18()\n",
    "model_resnet.conv1 = nn.Conv2d(1, 64, kernel_size=7, stride=2, padding=3, bias=False) # Ponownie po załadowaniu - zmiana pierwszej warstwy konwolucyjnej na 1 kanał ze dla zdjęć GRAYSCALE\n",
    "\n",
    "model_custom.load_state_dict(torch.load(\"model_custom.pth\", weights_only=True))\n",
    "model_resnet.load_state_dict(torch.load(\"model_resnet.pth\", weights_only=True))"
   ]
  },
  {
   "cell_type": "code",
   "execution_count": null,
   "metadata": {},
   "outputs": [],
   "source": [
    "# Prosta ewaluacja - ACCURACY / DOKŁADNOŚĆ modelu (globalna)\n",
    "\n",
    "def evaluate(model):\n",
    "    correct_preds = 0\n",
    "\n",
    "    model.eval()\n",
    "    with torch.no_grad():\n",
    "        for images, labels in test_dataloader:            \n",
    "            correct_preds += (F.softmax(model(images), dim=1).argmax(dim=1) == labels).float().mean().item()\n",
    "\n",
    "    accuracy = correct_preds * 100 / len(test_dataloader)\n",
    "\n",
    "    print(f'Global accuracy on test set: {accuracy:.2f}%')"
   ]
  },
  {
   "cell_type": "code",
   "execution_count": null,
   "metadata": {},
   "outputs": [],
   "source": [
    "print(\"Custom model:\")\n",
    "evaluate(model_custom)"
   ]
  },
  {
   "cell_type": "code",
   "execution_count": null,
   "metadata": {},
   "outputs": [],
   "source": [
    "print(\"ResNet18:\")\n",
    "evaluate(model_resnet)"
   ]
  },
  {
   "cell_type": "code",
   "execution_count": null,
   "metadata": {},
   "outputs": [],
   "source": [
    "# Confusion matrix / macierz pomyłek\n",
    "# Jak model radzi sobie z poszczególnymi klasami\n",
    "\n",
    "def confusion_matrix(model, n_classes=10):\n",
    "    matrix = np.zeros((n_classes, n_classes),dtype=int)\n",
    "\n",
    "    model.eval()\n",
    "    with torch.no_grad():\n",
    "        for images, labels in test_dataloader:\n",
    "            \n",
    "            predicted = torch.max(F.softmax(model(images), dim=1).data, 1)[1]\n",
    "\n",
    "            for p,l in zip(predicted, labels):\n",
    "                p,l = p.item(), l.item()\n",
    "                matrix[p,l] += 1\n",
    "    \n",
    "    return matrix"
   ]
  },
  {
   "cell_type": "code",
   "execution_count": null,
   "metadata": {},
   "outputs": [],
   "source": [
    "matrix_custom = confusion_matrix(model_custom)"
   ]
  },
  {
   "cell_type": "code",
   "execution_count": null,
   "metadata": {},
   "outputs": [],
   "source": [
    "matrix_resnet = confusion_matrix(model_resnet)"
   ]
  },
  {
   "cell_type": "code",
   "execution_count": null,
   "metadata": {},
   "outputs": [],
   "source": [
    "fig,ax = plt.subplots(1,2, figsize=(10,5))\n",
    "ax[0].imshow(matrix_custom, cmap='Blues')\n",
    "ax[0].set_title(\"Custom CNN\")\n",
    "ax[0].set_xticks(list(LABELS.keys()))\n",
    "ax[0].set_yticks(list(LABELS.keys()))\n",
    "ax[0].set_xticklabels(list(LABELS.values()), rotation=45, ha=\"right\", fontsize=7)\n",
    "ax[0].set_yticklabels(list(LABELS.values()), fontsize=7)\n",
    "\n",
    "ax[0].set_ylabel(\"Predicted\")\n",
    "ax[0].set_xlabel(\"Ground Truth\")\n",
    "\n",
    "for i in range(10):\n",
    "    for j in range(10):\n",
    "        ax[0].text(j, i, matrix_custom[i, j], ha=\"center\", va=\"center\", color=\"black\", fontsize=8)\n",
    "\n",
    "\n",
    "ax[1].imshow(matrix_resnet, cmap='Blues')\n",
    "ax[1].set_title(\"ResNet18\")\n",
    "ax[1].set_xticks(list(LABELS.keys()))\n",
    "ax[1].set_yticks(list(LABELS.keys()))\n",
    "ax[1].set_xticklabels(list(LABELS.values()), rotation=45, ha=\"right\", fontsize=7)\n",
    "ax[1].set_yticklabels(list(LABELS.values()), fontsize=7)\n",
    "\n",
    "ax[1].set_ylabel(\"Predicted\")\n",
    "ax[1].set_xlabel(\"Ground Truth\")\n",
    "\n",
    "for i in range(10):\n",
    "    for j in range(10):\n",
    "        ax[1].text(j, i, matrix_resnet[i, j], ha=\"center\", va=\"center\", color=\"black\", fontsize=8)\n",
    "\n",
    "plt.tight_layout()\n",
    "plt.show()"
   ]
  },
  {
   "cell_type": "code",
   "execution_count": null,
   "metadata": {},
   "outputs": [],
   "source": [
    "# Analiza macierzy pomyłek\n",
    "# Wyznaczenie metryk dla poszczególnych klas\n",
    "# Wyznaczenie metryk globalnych - uśrednienie po klasach\n",
    "\n",
    "def analyze_matrix(matrix):\n",
    "    global_res = {\"accuracy\": np.zeros(matrix.shape[0]), \"precision\": np.zeros(matrix.shape[0]), \"recall\": np.zeros(matrix.shape[0]), \"f1\": np.zeros(matrix.shape[0])}\n",
    "    for i,c in LABELS.items():\n",
    "        print(f'{c}:')\n",
    "        tp = matrix[i,i]\n",
    "        fp = np.sum(matrix[i,:]) - tp\n",
    "        fn = np.sum(matrix[:,i]) - tp\n",
    "        tn = np.sum(matrix) - tp - fp - fn\n",
    "\n",
    "        precision = tp / (tp + fp)\n",
    "        recall = tp / (tp + fn)\n",
    "        f1 = 2 * precision * recall / (precision + recall)\n",
    "        accuracy = (tp+tn) / (tp+fp+fn+tn)\n",
    "\n",
    "        global_res[\"accuracy\"][i] = accuracy\n",
    "        global_res[\"precision\"][i] = precision\n",
    "        global_res[\"recall\"][i] = recall\n",
    "        global_res[\"f1\"][i] = f1\n",
    "\n",
    "        print(f'\\taccuracy: {accuracy*100.0:.2f}, precision: {precision*100.0:.2f}, recall: {recall*100.0:.2f}, F1: {f1*100.0:.2f}')\n",
    "\n",
    "    print(f'{\"-\"*70}\\nGlobal (macro) results:')\n",
    "    print(f'\\tAccuracy: {np.mean(global_res[\"accuracy\"])*100.0:.2f}, Precision: {np.mean(global_res[\"precision\"])*100.0:.2f}, Recall: {np.mean(global_res[\"recall\"])*100.0:.2f}, F1: {np.mean(global_res[\"f1\"])*100.0:.2f}')\n",
    "\n",
    "\n"
   ]
  },
  {
   "cell_type": "code",
   "execution_count": null,
   "metadata": {},
   "outputs": [],
   "source": [
    "print(\"Custom model:\\n\")\n",
    "analyze_matrix(matrix_custom)"
   ]
  },
  {
   "cell_type": "code",
   "execution_count": null,
   "metadata": {},
   "outputs": [],
   "source": [
    "print(\"ResNet18:\\n\")\n",
    "analyze_matrix(matrix_resnet)"
   ]
  }
 ],
 "metadata": {
  "kernelspec": {
   "display_name": "env_main",
   "language": "python",
   "name": "python3"
  },
  "language_info": {
   "codemirror_mode": {
    "name": "ipython",
    "version": 3
   },
   "file_extension": ".py",
   "mimetype": "text/x-python",
   "name": "python",
   "nbconvert_exporter": "python",
   "pygments_lexer": "ipython3",
   "version": "3.13.5"
  }
 },
 "nbformat": 4,
 "nbformat_minor": 2
}
