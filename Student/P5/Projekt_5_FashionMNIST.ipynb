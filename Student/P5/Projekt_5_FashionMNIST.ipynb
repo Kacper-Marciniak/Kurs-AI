{
 "cells": [
  {
   "cell_type": "markdown",
   "metadata": {},
   "source": [
    "### Wczytanie danych z biblioteki TorchVision"
   ]
  },
  {
   "cell_type": "code",
   "execution_count": null,
   "metadata": {},
   "outputs": [],
   "source": [
    "from torchvision.datasets import FashionMNIST\n",
    "import torchvision.transforms as transforms\n",
    "import numpy as np\n",
    "from torch.utils.data import DataLoader\n",
    "\n",
    "\n",
    "# transformacje dla pre-processingu\n",
    "transform = transforms.Compose(\n",
    "    [\n",
    "        transforms.ToTensor(),\n",
    "        transforms.Normalize((0.286,), (0.353,))\n",
    "    ]\n",
    ")\n",
    "\n",
    "# FashionMNIST dataset\n",
    "train_dataset = FashionMNIST(root='./data', train=True, download=True, transform=transform)\n",
    "test_dataset = FashionMNIST(root='./data', train=False, download=True, transform=transform)\n",
    "\n",
    "# Data loader\n",
    "batch_size = 32\n",
    "\n",
    "train_dataloader = DataLoader(train_dataset, batch_size=batch_size, shuffle=True)\n",
    "test_dataloader = DataLoader(test_dataset, batch_size=batch_size, shuffle=False)"
   ]
  },
  {
   "cell_type": "markdown",
   "metadata": {},
   "source": [
    "### EDA"
   ]
  },
  {
   "cell_type": "code",
   "execution_count": null,
   "metadata": {},
   "outputs": [],
   "source": [
    "from matplotlib import pyplot as plt\n",
    "LABELS = {\n",
    "  0: \"T-shirt/top\",\n",
    "  1: \"Trouser\",\n",
    "  2: \"Pullover\",\n",
    "  3: \"Dress\",\n",
    "  4: \"Coat\",\n",
    "  5: \"Sandal\",\n",
    "  6: \"Shirt\",\n",
    "  7: \"Sneaker\",\n",
    "  8: \"Bag\",\n",
    "  9: \"Ankle boot\"\n",
    "}\n",
    "\n",
    "fig, axes = plt.subplots(ncols=3, nrows=5, figsize=(4, 5))\n",
    "axes = axes.flatten()\n",
    "for i,(img, label) in enumerate(train_dataset):\n",
    "\n",
    "  if i >= 15: break\n",
    "\n",
    "  axes[i].imshow(img[0, :, :], cmap=\"gray\")\n",
    "  axes[i].axis(\"off\")\n",
    "  axes[i].set_title(LABELS[label])\n",
    "\n",
    "plt.tight_layout()\n",
    "plt.show()"
   ]
  },
  {
   "cell_type": "markdown",
   "metadata": {},
   "source": [
    "### Definiowane dwóch modeli konwolucyjnych"
   ]
  },
  {
   "cell_type": "code",
   "execution_count": null,
   "metadata": {},
   "outputs": [],
   "source": [
    "import torch\n",
    "import torch.nn as nn\n",
    "import torch.nn.functional as F\n",
    "from torchvision.models import resnet18, ResNet18_Weights\n",
    "\n",
    "class CustomCNN(nn.Module):\n",
    "    def __init__(self):\n",
    "        super().__init__()\n",
    "        self.conv1 = nn.Conv2d(in_channels=1, out_channels=8, kernel_size=3)\n",
    "        self.pool = nn.AvgPool2d(2, 2)\n",
    "        self.conv2 = nn.Conv2d(in_channels=8, out_channels=16, kernel_size=3)\n",
    "        self.fc1 = nn.Linear(16*5*5, 128)\n",
    "        self.fc2 = nn.Linear(128, 64)\n",
    "        self.fc3 = nn.Linear(64, 10)\n",
    "\n",
    "    def forward(self, x):\n",
    "        x = self.pool(F.relu(self.conv1(x)))\n",
    "        x = self.pool(F.relu(self.conv2(x)))\n",
    "        x = torch.flatten(x, 1)\n",
    "        x = F.relu(self.fc1(x))\n",
    "        x = F.relu(self.fc2(x))\n",
    "        x = self.fc3(x)\n",
    "        return x\n",
    "    \n",
    "model_custom = CustomCNN()\n",
    "\n",
    "model_resnet = resnet18(weights=ResNet18_Weights.IMAGENET1K_V1)\n",
    "# Zmiana pierwszej warstwy konwolucyjnej na 1 kanał ze dla zdjęć GRAYSCALE\n",
    "model_resnet.conv1 = nn.Conv2d(1, 64, kernel_size=7, stride=2, padding=3,bias=False)"
   ]
  },
  {
   "cell_type": "markdown",
   "metadata": {},
   "source": [
    "### Definiowanie parametrów treningu"
   ]
  },
  {
   "cell_type": "code",
   "execution_count": null,
   "metadata": {},
   "outputs": [],
   "source": [
    "from torch import optim\n",
    "from tqdm import tqdm\n",
    "\n",
    "def train(model, save_name, epochs=5):\n",
    "    criterion = nn.CrossEntropyLoss()\n",
    "    optimizer = optim.Adam(model.parameters())\n",
    "\n",
    "    for epoch in range(epochs):\n",
    "        losses = []\n",
    "        for i, (inputs, labels) in tqdm(enumerate(train_dataloader, 0)):\n",
    "\n",
    "            # zero the parameter gradients\n",
    "            optimizer.zero_grad()\n",
    "\n",
    "            # forward + backward + optimize\n",
    "            outputs = model(inputs)\n",
    "            loss = criterion(outputs, labels)\n",
    "            loss.backward()\n",
    "            optimizer.step()\n",
    "\n",
    "            losses.append(loss.item())\n",
    "\n",
    "        # print loss\n",
    "        print(f'{epoch + 1}/{epochs+1} | loss: {np.round(np.mean(losses), 4)}')\n",
    "\n",
    "    torch.save(model.state_dict(), save_name)"
   ]
  },
  {
   "cell_type": "code",
   "execution_count": null,
   "metadata": {},
   "outputs": [],
   "source": [
    "train(model_custom, 'model_custom.pth')"
   ]
  },
  {
   "cell_type": "code",
   "execution_count": null,
   "metadata": {},
   "outputs": [],
   "source": [
    "train(model_resnet, 'model_resnet.pth')"
   ]
  },
  {
   "cell_type": "code",
   "execution_count": null,
   "metadata": {},
   "outputs": [],
   "source": [
    "del model_custom, model_resnet"
   ]
  },
  {
   "cell_type": "markdown",
   "metadata": {},
   "source": [
    "### Walidacja modelu na zbiorze testowym"
   ]
  },
  {
   "cell_type": "code",
   "execution_count": null,
   "metadata": {},
   "outputs": [],
   "source": [
    "# 1.6. Czytanie modelu\n",
    "\n",
    "model_custom = CustomCNN()\n",
    "model_resnet = resnet18()\n",
    "# Zmiana pierwszej warstwy konwolucyjnej na 1 kanał ze dla zdjęć GRAYSCALE\n",
    "model_resnet.conv1 = nn.Conv2d(1, 64, kernel_size=7, stride=2, padding=3,bias=False)\n",
    "\n",
    "model_custom.load_state_dict(torch.load(\"model_custom.pth\", weights_only=True))\n",
    "model_resnet.load_state_dict(torch.load(\"model_resnet.pth\", weights_only=True))"
   ]
  },
  {
   "cell_type": "code",
   "execution_count": null,
   "metadata": {},
   "outputs": [],
   "source": [
    "def evaluate(model):\n",
    "    counter_labels = 0\n",
    "    counter_correct_preds = 0\n",
    "\n",
    "    model.eval()\n",
    "    with torch.no_grad():\n",
    "        for images, labels in test_dataloader:\n",
    "\n",
    "            predicted = torch.max(model(images).data, 1)[1]\n",
    "\n",
    "            counter_labels += labels.size(0)\n",
    "            counter_correct_preds += (predicted == labels).sum().item()\n",
    "\n",
    "    accuracy = np.round(counter_correct_preds * 100 / counter_labels, 3)\n",
    "\n",
    "    print(f'Global accuracy on test set: {accuracy}%')"
   ]
  },
  {
   "cell_type": "code",
   "execution_count": null,
   "metadata": {},
   "outputs": [],
   "source": [
    "evaluate(model_custom)"
   ]
  },
  {
   "cell_type": "code",
   "execution_count": null,
   "metadata": {},
   "outputs": [],
   "source": [
    "evaluate(model_resnet)"
   ]
  },
  {
   "cell_type": "code",
   "execution_count": null,
   "metadata": {},
   "outputs": [],
   "source": [
    "def confusion_matrix(model, n_classes=10):\n",
    "    matrix = np.zeros((n_classes, n_classes),dtype=int)\n",
    "\n",
    "    model.eval()\n",
    "    with torch.no_grad():\n",
    "        for images, labels in test_dataloader:\n",
    "\n",
    "            predicted = torch.max(model(images).data, 1)[1]\n",
    "\n",
    "            for p,l in zip(predicted, labels):\n",
    "                p,l = p.item(), l.item()\n",
    "                matrix[p,l] += 1\n",
    "    \n",
    "    return matrix"
   ]
  },
  {
   "cell_type": "code",
   "execution_count": null,
   "metadata": {},
   "outputs": [],
   "source": [
    "matrix_custom = confusion_matrix(model_custom)"
   ]
  },
  {
   "cell_type": "code",
   "execution_count": null,
   "metadata": {},
   "outputs": [],
   "source": [
    "matrix_resnet = confusion_matrix(model_resnet)"
   ]
  },
  {
   "cell_type": "code",
   "execution_count": null,
   "metadata": {},
   "outputs": [],
   "source": [
    "fig,ax = plt.subplots(1,2, figsize=(10,5))\n",
    "ax[0].imshow(matrix_custom, cmap='ocean')\n",
    "ax[0].set_title(\"Custom CNN\")\n",
    "ax[0].set_xticks(list(LABELS.keys()))\n",
    "ax[0].set_yticks(list(LABELS.keys()))\n",
    "\n",
    "ax[0].set_ylabel(\"Predicted\")\n",
    "ax[0].set_xlabel(\"Label\")\n",
    "\n",
    "for i in range(10):\n",
    "    for j in range(10):\n",
    "        ax[0].text(j, i, matrix_custom[i, j], ha=\"center\", va=\"center\", color=\"black\", fontsize=8)\n",
    "\n",
    "\n",
    "ax[1].imshow(matrix_resnet, cmap='ocean')\n",
    "ax[1].set_title(\"ResNet18\")\n",
    "ax[1].set_xticks(list(LABELS.keys()))\n",
    "ax[1].set_yticks(list(LABELS.keys()))\n",
    "\n",
    "ax[1].set_ylabel(\"Predicted\")\n",
    "ax[1].set_xlabel(\"Label\")\n",
    "\n",
    "for i in range(10):\n",
    "    for j in range(10):\n",
    "        ax[1].text(j, i, matrix_resnet[i, j], ha=\"center\", va=\"center\", color=\"black\", fontsize=8)\n",
    "\n",
    "plt.show()"
   ]
  },
  {
   "cell_type": "code",
   "execution_count": null,
   "metadata": {},
   "outputs": [],
   "source": [
    "def analyze_matrix(matrix):\n",
    "    global_res = {\"accuracy\": np.zeros(matrix.shape[0]), \"precision\": np.zeros(matrix.shape[0]), \"recall\": np.zeros(matrix.shape[0]), \"f1\": np.zeros(matrix.shape[0])}\n",
    "    for i,c in LABELS.items():\n",
    "        print(f'{c}:')\n",
    "        tp = matrix[i,i]\n",
    "        fp = np.sum(matrix[i,:]) - tp\n",
    "        fn = np.sum(matrix[:,i]) - tp\n",
    "        tn = np.sum(matrix) - tp - fp - fn\n",
    "\n",
    "        precision = tp / (tp + fp)\n",
    "        recall = tp / (tp + fn)\n",
    "        f1 = 2 * precision * recall / (precision + recall)\n",
    "        accuracy = (tp+tn) / (tp+fp+fn+tn)\n",
    "\n",
    "        global_res[\"accuracy\"][i] = accuracy\n",
    "        global_res[\"precision\"][i] = precision\n",
    "        global_res[\"recall\"][i] = recall\n",
    "        global_res[\"f1\"][i] = f1\n",
    "\n",
    "        print(f'\\taccuracy: {accuracy*100.0:.2f}, precision: {precision*100.0:.2f}, recall: {recall*100.0:.2f}, F1: {f1*100.0:.2f}')\n",
    "    \n",
    "    print(f'-------------\\nGlobal (macro) results:')\n",
    "    print(f'\\taccuracy: {np.mean(global_res[\"accuracy\"])*100.0:.2f}, precision: {np.mean(global_res[\"precision\"])*100.0:.2f}, recall: {np.mean(global_res[\"recall\"])*100.0:.2f}, F1: {np.mean(global_res[\"f1\"])*100.0:.2f}')\n",
    "    \n",
    "\n"
   ]
  },
  {
   "cell_type": "code",
   "execution_count": null,
   "metadata": {},
   "outputs": [],
   "source": [
    "analyze_matrix(matrix_custom)"
   ]
  },
  {
   "cell_type": "code",
   "execution_count": null,
   "metadata": {},
   "outputs": [],
   "source": [
    "analyze_matrix(matrix_resnet)"
   ]
  }
 ],
 "metadata": {
  "kernelspec": {
   "display_name": "env_ml",
   "language": "python",
   "name": "python3"
  },
  "language_info": {
   "codemirror_mode": {
    "name": "ipython",
    "version": 3
   },
   "file_extension": ".py",
   "mimetype": "text/x-python",
   "name": "python",
   "nbconvert_exporter": "python",
   "pygments_lexer": "ipython3",
   "version": "3.11.7"
  }
 },
 "nbformat": 4,
 "nbformat_minor": 2
}
