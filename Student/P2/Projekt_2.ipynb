{
 "cells": [
  {
   "cell_type": "markdown",
   "metadata": {},
   "source": [
    "# Projekt 2\n",
    "Wprowadzenie do programowania w języku Python. Podstawowe\n",
    "struktury danych. Programowanie obiektowe w języku Python.\n",
    "Czytanie ramek danych."
   ]
  },
  {
   "cell_type": "markdown",
   "metadata": {},
   "source": [
    "### Środowisko Jupyter/Colab\n",
    "\n",
    "W środowiku jupyter możemy tworzyć notatniki (notebooks) zawierające komórki tekstowe (markdown) oraz kod."
   ]
  },
  {
   "cell_type": "code",
   "execution_count": 177,
   "metadata": {},
   "outputs": [
    {
     "name": "stdout",
     "output_type": "stream",
     "text": [
      "5\n"
     ]
    }
   ],
   "source": [
    "# Przykładowa komórka z kodem Python\n",
    "# Komórka z kodem może zawierać dowolny kod w języku Python\n",
    "# Komórka może być wywołana osobno używając przycisku z symbolem \"play\" lub skrótu klawiszowego Shift+Enter\n",
    "# Wynik działania komórki zostanie wyświetlony poniżej komórki\n",
    "a = 2\n",
    "b = 3\n",
    "print(a+b)"
   ]
  },
  {
   "cell_type": "code",
   "execution_count": 178,
   "metadata": {},
   "outputs": [
    {
     "name": "stdout",
     "output_type": "stream",
     "text": [
      "4\n"
     ]
    }
   ],
   "source": [
    "print(a-b+c)\n",
    "# Komórka ma dostęp do zmiennych zadeklarowanych w innych komórkach\n",
    "# Kolejność ułożenia komórek nie ma znaczenia, jedynie kolejność ich wywołania"
   ]
  },
  {
   "cell_type": "code",
   "execution_count": 179,
   "metadata": {},
   "outputs": [],
   "source": [
    "c = 5"
   ]
  },
  {
   "cell_type": "markdown",
   "metadata": {},
   "source": [
    "### Podstawowe zmienne w języku Python"
   ]
  },
  {
   "cell_type": "code",
   "execution_count": 180,
   "metadata": {},
   "outputs": [
    {
     "name": "stdout",
     "output_type": "stream",
     "text": [
      "2\n",
      "-3\n",
      "3.5\n",
      "5.4\n"
     ]
    }
   ],
   "source": [
    "# Zmienne liczbowe - integer, float\n",
    "i1 = 2\n",
    "i2 = -3\n",
    "f1 = 3.5\n",
    "f2 = 5.4\n",
    "print(i1)\n",
    "print(i2)\n",
    "print(f1)\n",
    "print(f2)"
   ]
  },
  {
   "cell_type": "code",
   "execution_count": 181,
   "metadata": {},
   "outputs": [
    {
     "name": "stdout",
     "output_type": "stream",
     "text": [
      "2 2.0\n",
      "3.5 3\n"
     ]
    }
   ],
   "source": [
    "# Rzutowanie zmiennych\n",
    "print(i1, float(i1))\n",
    "print(f1, int(f1))"
   ]
  },
  {
   "cell_type": "code",
   "execution_count": 182,
   "metadata": {},
   "outputs": [
    {
     "name": "stdout",
     "output_type": "stream",
     "text": [
      "hello\n",
      "world\n"
     ]
    }
   ],
   "source": [
    "# Zmienne tekstowe - string\n",
    "s1 = \"hello\"\n",
    "s2 = 'world'\n",
    "print(s1)\n",
    "print(s2)"
   ]
  },
  {
   "cell_type": "code",
   "execution_count": 183,
   "metadata": {},
   "outputs": [
    {
     "name": "stdout",
     "output_type": "stream",
     "text": [
      "hello world!\n"
     ]
    }
   ],
   "source": [
    "# Konkatenacja stringów\n",
    "s3 = s1 + \" \" + s2 + \"!\"\n",
    "print(s3)"
   ]
  },
  {
   "cell_type": "code",
   "execution_count": 184,
   "metadata": {},
   "outputs": [
    {
     "name": "stdout",
     "output_type": "stream",
     "text": [
      "hello world!\n",
      "HELLO WORLD!\n",
      "Hello world!\n"
     ]
    }
   ],
   "source": [
    "# Lower, Upper, Capitalize\n",
    "print(s3.lower())\n",
    "print(s3.upper())\n",
    "print(s3.capitalize())"
   ]
  },
  {
   "cell_type": "code",
   "execution_count": 185,
   "metadata": {},
   "outputs": [
    {
     "name": "stdout",
     "output_type": "stream",
     "text": [
      "Nazywam się kacper marciniak i poprowadzę dla was zajęcia z kursu 'stuczna inteligencja i uczenie maszynowe'.\n"
     ]
    }
   ],
   "source": [
    "# Formatowanie stringów (f-string)\n",
    "imie, nazwisko = \"kacper\", \"marciniak\"\n",
    "kurs = \"stuczna inteligencja i uczenie maszynowe\"\n",
    "print(f\"Nazywam się {imie} {nazwisko} i poprowadzę dla was zajęcia z kursu \\'{kurs}\\'.\")"
   ]
  },
  {
   "cell_type": "code",
   "execution_count": 186,
   "metadata": {},
   "outputs": [
    {
     "name": "stdout",
     "output_type": "stream",
     "text": [
      "True\n",
      "False\n"
     ]
    }
   ],
   "source": [
    "# Zmienne logiczne - boolean\n",
    "b1 = True\n",
    "b2 = False\n",
    "print(b1)\n",
    "print(b2)"
   ]
  },
  {
   "cell_type": "code",
   "execution_count": 187,
   "metadata": {},
   "outputs": [
    {
     "name": "stdout",
     "output_type": "stream",
     "text": [
      "c\n",
      "hello\n",
      "3.5\n"
     ]
    }
   ],
   "source": [
    "# Zmienne złożone - listy, krotki (tuple), słowniki (dictionary)\n",
    "l1 = [1, 2, 3, 4, 5]\n",
    "l2 = [\"a\", 5, \"c\", -3.5, \"e\"]\n",
    "\n",
    "t1 = (1, 2, 3, 4, 5)\n",
    "t2 = 1, \"hello\", 3.5, True\n",
    "\n",
    "d1 = {\n",
    "    \"a\": 1,\n",
    "    \"b\": 2,\n",
    "    \"c\": 3\n",
    "}\n",
    "d2 = {\n",
    "    0: 1.0,\n",
    "    1: \"test\",\n",
    "    \"c\": 3.5\n",
    "}\n",
    "\n",
    "print(l2[2])\n",
    "print(t2[1])\n",
    "print(d2[\"c\"])"
   ]
  },
  {
   "cell_type": "markdown",
   "metadata": {},
   "source": [
    "### Operatory arytmetyczne"
   ]
  },
  {
   "cell_type": "code",
   "execution_count": 188,
   "metadata": {},
   "outputs": [
    {
     "name": "stdout",
     "output_type": "stream",
     "text": [
      "2+3 = 5\n",
      "2-3 = -1\n",
      "2*3 = 6\n",
      "2/3 = 0.6666666666666666\n",
      "2//3 = 0\n",
      "2%3 = 2\n",
      "2**3 = 8\n"
     ]
    }
   ],
   "source": [
    "print(\"2+3 =\",2+3)\n",
    "print(\"2-3 =\",2-3)\n",
    "print(\"2*3 =\",2*3)\n",
    "print(\"2/3 =\",2/3)\n",
    "print(\"2//3 =\",2//3)\n",
    "print(\"2%3 =\",2%3)\n",
    "print(\"2**3 =\",2**3)"
   ]
  },
  {
   "cell_type": "markdown",
   "metadata": {},
   "source": [
    "### Operatory logiczne"
   ]
  },
  {
   "cell_type": "code",
   "execution_count": 189,
   "metadata": {},
   "outputs": [
    {
     "name": "stdout",
     "output_type": "stream",
     "text": [
      "2==3 : False\n",
      "2!=3 : True\n"
     ]
    }
   ],
   "source": [
    "# ==, !=\n",
    "print(\"2==3 :\",2==3)\n",
    "print(\"2!=3 :\",2!=3)"
   ]
  },
  {
   "cell_type": "code",
   "execution_count": 190,
   "metadata": {},
   "outputs": [
    {
     "name": "stdout",
     "output_type": "stream",
     "text": [
      "a>b or b<c : True\n",
      "a>b and b<c : False\n"
     ]
    }
   ],
   "source": [
    "# >, <, >=, <=\n",
    "a = 2\n",
    "b = 3\n",
    "c = 5\n",
    "\n",
    "print(\"a>b or b<c :\", a>b or b<c)\n",
    "print(\"a>b and b<c :\", a>b and b<c)"
   ]
  },
  {
   "cell_type": "code",
   "execution_count": 191,
   "metadata": {},
   "outputs": [
    {
     "name": "stdout",
     "output_type": "stream",
     "text": [
      "True\n",
      "False\n",
      "True\n"
     ]
    }
   ],
   "source": [
    "# in\n",
    "print(\"Intelligence\" in \"Artificial Intelligence\")\n",
    "print(2 in [0,3,5,7,9])\n",
    "print(2 not in [0,3,5,7,9])"
   ]
  },
  {
   "cell_type": "code",
   "execution_count": 192,
   "metadata": {},
   "outputs": [
    {
     "name": "stdout",
     "output_type": "stream",
     "text": [
      "True\n",
      "False\n"
     ]
    }
   ],
   "source": [
    "# is\n",
    "a = None\n",
    "b = 3\n",
    "print(a is None)\n",
    "print(b is None)"
   ]
  },
  {
   "cell_type": "markdown",
   "metadata": {},
   "source": [
    "### Instrukcje warunkowe"
   ]
  },
  {
   "cell_type": "code",
   "execution_count": 193,
   "metadata": {},
   "outputs": [
    {
     "name": "stdout",
     "output_type": "stream",
     "text": [
      "5 jest większe od 3\n"
     ]
    }
   ],
   "source": [
    "a = 5\n",
    "b = 3\n",
    "if a>b:\n",
    "    print(f\"{a} jest większe od {b}\")\n",
    "elif a==b:\n",
    "    print(f\"{a} jest równe {b}\")\n",
    "else:\n",
    "    print(f\"{a} jest mniejsze od {b}\")"
   ]
  },
  {
   "cell_type": "markdown",
   "metadata": {},
   "source": [
    "### Pętle for, while"
   ]
  },
  {
   "cell_type": "code",
   "execution_count": 194,
   "metadata": {},
   "outputs": [
    {
     "name": "stdout",
     "output_type": "stream",
     "text": [
      "0\n",
      "1\n",
      "2\n",
      "3\n",
      "4\n"
     ]
    }
   ],
   "source": [
    "# Pętla for\n",
    "for i in range(5):\n",
    "    print(i)"
   ]
  },
  {
   "cell_type": "code",
   "execution_count": 195,
   "metadata": {},
   "outputs": [
    {
     "name": "stdout",
     "output_type": "stream",
     "text": [
      "0\n",
      "1\n",
      "2\n",
      "3\n",
      "4\n"
     ]
    }
   ],
   "source": [
    "# Pętla while\n",
    "a = 0\n",
    "while a < 5:\n",
    "    print(a)\n",
    "    a += 1"
   ]
  },
  {
   "cell_type": "code",
   "execution_count": 196,
   "metadata": {},
   "outputs": [
    {
     "name": "stdout",
     "output_type": "stream",
     "text": [
      "0 a\n",
      "1 b\n",
      "2 c\n",
      "3 d\n",
      "4 e\n"
     ]
    }
   ],
   "source": [
    "# Enumerate\n",
    "for i, v in enumerate([\"a\", \"b\", \"c\", \"d\", \"e\"]):\n",
    "    print(i, v)"
   ]
  },
  {
   "cell_type": "code",
   "execution_count": 197,
   "metadata": {},
   "outputs": [
    {
     "name": "stdout",
     "output_type": "stream",
     "text": [
      "1 a\n",
      "2 b\n",
      "3 c\n",
      "4 d\n",
      "5 e\n"
     ]
    }
   ],
   "source": [
    "# Zip\n",
    "for a, b in zip([1, 2, 3, 4, 5], [\"a\", \"b\", \"c\", \"d\", \"e\", \"f\", \"g\"]):\n",
    "    print(a, b)"
   ]
  },
  {
   "cell_type": "code",
   "execution_count": 198,
   "metadata": {},
   "outputs": [
    {
     "name": "stdout",
     "output_type": "stream",
     "text": [
      "1\n",
      "2\n",
      "4\n",
      "8\n",
      "16\n"
     ]
    }
   ],
   "source": [
    "# Break\n",
    "a = 1\n",
    "while True:\n",
    "    if a >= 32:\n",
    "        break \n",
    "    print(a)\n",
    "    a *= 2"
   ]
  },
  {
   "cell_type": "code",
   "execution_count": 199,
   "metadata": {},
   "outputs": [
    {
     "name": "stdout",
     "output_type": "stream",
     "text": [
      "1\n",
      "3\n",
      "5\n",
      "7\n",
      "9\n"
     ]
    }
   ],
   "source": [
    "# Continue\n",
    "for i in range(10):\n",
    "    if i % 2 == 0:\n",
    "        continue\n",
    "    print(i)"
   ]
  },
  {
   "cell_type": "markdown",
   "metadata": {},
   "source": [
    "### Funkcje"
   ]
  },
  {
   "cell_type": "code",
   "execution_count": 200,
   "metadata": {},
   "outputs": [
    {
     "name": "stdout",
     "output_type": "stream",
     "text": [
      "5\n"
     ]
    }
   ],
   "source": [
    "def suma(a, b):\n",
    "    return a + b\n",
    "\n",
    "print(suma(2, 3))"
   ]
  },
  {
   "cell_type": "code",
   "execution_count": 201,
   "metadata": {},
   "outputs": [
    {
     "name": "stdout",
     "output_type": "stream",
     "text": [
      "0.6666666666666666\n",
      "Nie można dzielić przez zero!\n"
     ]
    }
   ],
   "source": [
    "def dzielenie(a, b):\n",
    "    if b == 0:\n",
    "        return \"Nie można dzielić przez zero!\"\n",
    "    return a / b\n",
    "\n",
    "print(dzielenie(2, 3))\n",
    "print(dzielenie(2, 0))"
   ]
  },
  {
   "cell_type": "code",
   "execution_count": 202,
   "metadata": {},
   "outputs": [
    {
     "name": "stdout",
     "output_type": "stream",
     "text": [
      "4.0\n",
      "2.0\n"
     ]
    }
   ],
   "source": [
    "def pierwiastek(a, stopien=2):\n",
    "    return a ** (1/stopien)\n",
    "\n",
    "print(pierwiastek(16))\n",
    "print(pierwiastek(8, 3))"
   ]
  },
  {
   "cell_type": "code",
   "execution_count": 203,
   "metadata": {},
   "outputs": [
    {
     "name": "stdout",
     "output_type": "stream",
     "text": [
      "(1, 2, 3, 4, 5)\n",
      "{'a': 'a', 'b': 'b', 'c': 'c'}\n"
     ]
    }
   ],
   "source": [
    "def funkcja(*args, **kwargs):\n",
    "    print(args)\n",
    "    print(kwargs)\n",
    "\n",
    "funkcja(1, 2, 3, 4, 5, a=\"a\", b=\"b\", c=\"c\")"
   ]
  },
  {
   "cell_type": "markdown",
   "metadata": {},
   "source": [
    "### Klasy"
   ]
  },
  {
   "cell_type": "code",
   "execution_count": 204,
   "metadata": {},
   "outputs": [
    {
     "name": "stdout",
     "output_type": "stream",
     "text": [
      "Nazywam się Kacper Marciniak.\n",
      "Do widzenia!\n"
     ]
    }
   ],
   "source": [
    "class Osoba():\n",
    "    def __init__(self, imie, nazwisko):\n",
    "        # Konstruktor\n",
    "        self.imie = imie\n",
    "        self.nazwisko = nazwisko\n",
    "    \n",
    "    def przedstaw_sie(self):\n",
    "        # Metoda\n",
    "        print(f\"Nazywam się {self.imie} {self.nazwisko}.\")\n",
    "\n",
    "    def __del__(self):\n",
    "        # Destruktor\n",
    "        print(\"Do widzenia!\")\n",
    "\n",
    "o1 = Osoba(\"Kacper\", \"Marciniak\")\n",
    "o1.przedstaw_sie()\n",
    "del o1"
   ]
  },
  {
   "cell_type": "code",
   "execution_count": 205,
   "metadata": {},
   "outputs": [
    {
     "name": "stdout",
     "output_type": "stream",
     "text": [
      "Nazywam się Jan Kowalski i jestem studentem o numerze indeksu 123456.\n",
      "Do widzenia!\n"
     ]
    }
   ],
   "source": [
    "class Student(Osoba):\n",
    "    def __init__(self, imie, nazwisko, numer_indeksu):\n",
    "        # Konstruktor\n",
    "        super().__init__(imie, nazwisko) # Wywołanie konstruktora rodzica\n",
    "\n",
    "        self.numer_indeksu = numer_indeksu\n",
    "\n",
    "    def przedstaw_sie(self):\n",
    "        print(f\"Nazywam się {self.imie} {self.nazwisko} i jestem studentem o numerze indeksu {self.numer_indeksu}.\")\n",
    "\n",
    "s1 = Student(\"Jan\", \"Kowalski\", 123456)\n",
    "s1.przedstaw_sie()\n",
    "del s1"
   ]
  },
  {
   "cell_type": "markdown",
   "metadata": {},
   "source": [
    "### Wbudowane moduły"
   ]
  },
  {
   "cell_type": "code",
   "execution_count": 206,
   "metadata": {},
   "outputs": [
    {
     "name": "stdout",
     "output_type": "stream",
     "text": [
      "0\n",
      "1\n",
      "2\n",
      "3\n",
      "4\n"
     ]
    }
   ],
   "source": [
    "import time\n",
    "\n",
    "for i in range(5):\n",
    "    print(i)\n",
    "    time.sleep(1)"
   ]
  },
  {
   "cell_type": "code",
   "execution_count": 207,
   "metadata": {},
   "outputs": [
    {
     "name": "stdout",
     "output_type": "stream",
     "text": [
      "6\n"
     ]
    }
   ],
   "source": [
    "import random\n",
    "print(random.randint(0, 10))"
   ]
  },
  {
   "cell_type": "code",
   "execution_count": 208,
   "metadata": {},
   "outputs": [
    {
     "name": "stdout",
     "output_type": "stream",
     "text": [
      "9.60456795474854\n"
     ]
    }
   ],
   "source": [
    "from math import sqrt\n",
    "from random import random as rand\n",
    "\n",
    "print(sqrt(rand()*100.0))"
   ]
  },
  {
   "cell_type": "markdown",
   "metadata": {},
   "source": [
    "### Pakiety"
   ]
  },
  {
   "cell_type": "code",
   "execution_count": 209,
   "metadata": {},
   "outputs": [
    {
     "name": "stdout",
     "output_type": "stream",
     "text": [
      "[1. 2. 3. 4. 5.]\n",
      "[0.4 0.8 1.2 1.6 2. ]\n",
      "[5.4 5.8 6.2 6.6 7. ]\n",
      "[29.16 33.64 38.44 43.56 49.  ]\n"
     ]
    }
   ],
   "source": [
    "# Numpy\n",
    "\n",
    "import numpy as np\n",
    "\n",
    "a = np.array([1, 2, 3, 4, 5], dtype=float)\n",
    "print(a)\n",
    "a /= 2.5\n",
    "print(a)\n",
    "a += 5\n",
    "print(a)\n",
    "a **= 2\n",
    "print(a)"
   ]
  },
  {
   "cell_type": "code",
   "execution_count": 216,
   "metadata": {},
   "outputs": [
    {
     "data": {
      "image/png": "[encoded data removed]",
      "text/plain": [
       "<Figure size 640x480 with 1 Axes>"
      ]
     },
     "metadata": {},
     "output_type": "display_data"
    },
    {
     "data": {
      "image/png": "[encoded data removed]",
      "text/plain": [
       "<Figure size 640x480 with 1 Axes>"
      ]
     },
     "metadata": {},
     "output_type": "display_data"
    }
   ],
   "source": [
    "import numpy as np\n",
    "import matplotlib.pyplot as plt\n",
    "\n",
    "def calc_s(a, vs, t):\n",
    "    return a*t**2/2 + vs*t\n",
    "\n",
    "def calc_v(a, vs, t):\n",
    "    return a*t + vs\n",
    "\n",
    "a1 = 2.5\n",
    "v1s = 30.0\n",
    "\n",
    "a2 = 10.0\n",
    "v2s = 0.0\n",
    "\n",
    "t = np.linspace(0, 10, 100)\n",
    "\n",
    "s1 = calc_s(a1, v1s, t)\n",
    "s2 = calc_s(a2, v2s, t)\n",
    "\n",
    "v1 = calc_v(a1, v1s, t)\n",
    "v2 = calc_v(a2, v2s, t)\n",
    "\n",
    "plt.plot(t, v1, color = \"red\", label = \"Pojazd A\")\n",
    "plt.plot(t, v2, color = \"blue\", label = \"Pojazd B\")\n",
    "plt.xlabel(\"Czas [s]\")\n",
    "plt.ylabel(\"Prędkość [m]\")\n",
    "plt.title(\"Porównanie prędkości\")\n",
    "plt.grid(True)\n",
    "plt.legend()\n",
    "plt.show()\n",
    "\n",
    "plt.plot(t, s1, color = \"red\", label = \"Pojazd A\")\n",
    "plt.plot(t, s2, color = \"blue\", label = \"Pojazd B\")\n",
    "plt.xlabel(\"Czas [s]\")\n",
    "plt.ylabel(\"Przemieszczenie [m]\")\n",
    "plt.title(\"Porównanie przemieszczeń\")\n",
    "plt.grid(True)\n",
    "plt.legend()\n",
    "plt.show()"
   ]
  }
 ],
 "metadata": {
  "kernelspec": {
   "display_name": "env_ml",
   "language": "python",
   "name": "python3"
  },
  "language_info": {
   "codemirror_mode": {
    "name": "ipython",
    "version": 3
   },
   "file_extension": ".py",
   "mimetype": "text/x-python",
   "name": "python",
   "nbconvert_exporter": "python",
   "pygments_lexer": "ipython3",
   "version": "3.11.7"
  }
 },
 "nbformat": 4,
 "nbformat_minor": 2
}
