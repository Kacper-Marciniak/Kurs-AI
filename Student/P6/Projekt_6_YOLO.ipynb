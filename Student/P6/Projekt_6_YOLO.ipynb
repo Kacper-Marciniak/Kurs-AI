{
 "cells": [
  {
   "cell_type": "markdown",
   "metadata": {},
   "source": [
    "### Wczytanie modelu YOLO"
   ]
  },
  {
   "cell_type": "code",
   "execution_count": null,
   "metadata": {},
   "outputs": [],
   "source": [
    "!pip install ultralytics"
   ]
  },
  {
   "cell_type": "code",
   "execution_count": null,
   "metadata": {},
   "outputs": [],
   "source": [
    "from ultralytics import YOLO\n",
    "import cv2 as cv\n",
    "import numpy as np\n",
    "\n",
    "model_yolo = YOLO(\"yolo11n\") # Używamy modelu trenowanego na zestawie COCO"
   ]
  },
  {
   "cell_type": "markdown",
   "metadata": {},
   "source": [
    "### Predykcja na przykładowym zdjęciu"
   ]
  },
  {
   "cell_type": "code",
   "execution_count": null,
   "metadata": {},
   "outputs": [],
   "source": [
    "import matplotlib.pyplot as plt\n",
    "\n",
    "def show_results(results):\n",
    "    # Visualize the results\n",
    "    for i, r in enumerate(results):\n",
    "        image = cv.cvtColor(r.plot(), cv.COLOR_BGR2RGB)\n",
    "        plt.imshow(image)\n",
    "        plt.axis('off')\n",
    "        plt.show()"
   ]
  },
  {
   "cell_type": "code",
   "execution_count": null,
   "metadata": {},
   "outputs": [],
   "source": [
    "for image_url in (\n",
    "    \"https://ultralytics.com/images/zidane.jpg\",\n",
    "    \"https://ultralytics.com/images/bus.jpg\",\n",
    "):\n",
    "    results = model_yolo.predict(image_url)\n",
    "    show_results(results)\n"
   ]
  },
  {
   "cell_type": "markdown",
   "metadata": {},
   "source": [
    "### Zestaw treningowy"
   ]
  },
  {
   "cell_type": "code",
   "execution_count": null,
   "metadata": {},
   "outputs": [],
   "source": [
    "import os\n",
    "\n",
    "PATH_TO_DATASET_CONFIG = os.path.abspath(\"Dataset/data.yaml\")\n",
    "\n",
    "import yaml\n",
    "\n",
    "with open(PATH_TO_DATASET_CONFIG, \"r\") as file:\n",
    "    data = yaml.safe_load(file)\n",
    "\n",
    "print(f\"Zawartość pliku \\'{PATH_TO_DATASET_CONFIG}\\':\")\n",
    "for key, value in data.items():\n",
    "    print(f\"{key}: {value}\")"
   ]
  },
  {
   "cell_type": "code",
   "execution_count": null,
   "metadata": {},
   "outputs": [],
   "source": [
    "import glob\n",
    "\n",
    "print(\"Zawartość zbioru danych:\")\n",
    "for subset in (\"train\", \"val\", \"test\"):\n",
    "    labels = glob.glob(f\"{data['path']}/{subset}/*.txt\")\n",
    "    print(f\"\\t{subset}: {len(labels)} etykiet(y)\")"
   ]
  },
  {
   "cell_type": "code",
   "execution_count": null,
   "metadata": {},
   "outputs": [],
   "source": [
    "import random\n",
    "\n",
    "SUBSET = 'train'\n",
    "\n",
    "labels = glob.glob(f\"{data['path']}/{SUBSET}/*.txt\")\n",
    "\n",
    "random_label = random.choice(labels)\n",
    "random_image = random_label.replace(\".txt\", \".jpg\")\n",
    "\n",
    "print(random_label)\n",
    "\n",
    "with open(random_label, \"r\") as file:\n",
    "    labels = file.readlines()\n",
    "\n",
    "image = cv.imread(random_image)\n",
    "\n",
    "for label in labels:\n",
    "    label = label.strip().split()\n",
    "    print(label)\n",
    "    x, y, w, h = [float(x) for x in label[1:]]\n",
    "    classname = int(label[0])\n",
    "    x1, y1 = int((x - w / 2) * image.shape[1]), int((y - h / 2) * image.shape[0])\n",
    "    w, h = int(w * image.shape[1]), int(h * image.shape[0])\n",
    "\n",
    "    cv.rectangle(image, (x1, y1), (x1 + w, y1 + h), (0, 255, 0) if classname==0 else (0,0,255), 2)\n",
    "\n",
    "image = cv.cvtColor(image, cv.COLOR_BGR2RGB)\n",
    "plt.imshow(image)\n",
    "plt.axis('off')\n",
    "plt.show()\n"
   ]
  },
  {
   "cell_type": "markdown",
   "metadata": {},
   "source": [
    "### Hiper parametry treningu"
   ]
  },
  {
   "cell_type": "code",
   "execution_count": null,
   "metadata": {},
   "outputs": [],
   "source": [
    "hiperparametry = {\n",
    "    \"imgsz\": 320, # image size (int)\n",
    "    \"epochs\": 30, # number of epochs (int)\n",
    "    \"batch\": 10, # batch size (int)\n",
    "    # LOSS GAIN --------------------------------------------------------------- #\n",
    "    \"box\":  7.5, # box loss gain\n",
    "    \"cls\":   0.50, # cls loss gain\n",
    "    \"dfl\":  1.50, # dfl loss gain\n",
    "    # OPTIMIZER --------------------------------------------------------------- #\n",
    "    \"optimizer\":  \"Adam\", # optimizer name from torch.\n",
    "    # LEARNING RATE ----------------------------------------------------------- #\n",
    "    \"lr0\":   0.0015, # initial learning rate (SGD=1E-2, Adam=1E-3)\n",
    "    \"lrf\":   0.01, # final OneCycleLR learning rate (lr0 * lrf)\n",
    "    # MOMENTUM ---------------------------------------------------------------- #\n",
    "    \"momentum\":  0.937, # SGD momentum/Adam beta1\n",
    "    # DECAY ------------------------------------------------------------------- #\n",
    "    \"weight_decay\":  0.0005, # optimizer weight decay\n",
    "    # PATIENCE\n",
    "    \"patience\": 10, # early stopping patience (epochs)\n",
    "    # WARMUP ------------------------------------------------------------------ #\n",
    "    \"warmup_epochs\": 3.00, # warmup epochs (fractions ok)\n",
    "    \"warmup_momentum\":   0.80, # warmup initial momentum\n",
    "    \"warmup_bias_lr\": 0.10, # warmup initial bias lr\n",
    "    # AUGMENTATION ------------------------------------------------------------ #\n",
    "    \"hsv_h\": 0.0, # image HSV-Hue augmentation (fraction)\n",
    "    \"hsv_s\": 0.0, # image HSV-Saturation augmentation (fraction)\n",
    "    \"hsv_v\": 0.0, # image HSV-Value augmentation (fraction)\n",
    "    \"degrees\":   0.0, # image rotation (+/- deg)\n",
    "    \"translate\": 0.0, # image translation (+/- fraction)\n",
    "    \"scale\": 0.0, # image scale (+/- gain)\n",
    "    \"shear\": 0.0, # image shear (+/- deg)\n",
    "    \"perspective\":   0.0, # image perspective (+/- fraction), range 0-0.001\n",
    "    \"flipud\": 0.0, # image flip up-down (probability)\n",
    "    \"fliplr\": 0.0, # image flip left-right (probability)\n",
    "    \"mosaic\": 0.0, # image mosaic (probability)\n",
    "    \"close_mosaic\": 0, # close mosaic for N ending epochs\n",
    "}"
   ]
  },
  {
   "cell_type": "markdown",
   "metadata": {},
   "source": [
    "### TRENING"
   ]
  },
  {
   "cell_type": "code",
   "execution_count": null,
   "metadata": {},
   "outputs": [],
   "source": [
    "model_yolo = YOLO(\"yolo11n\")\n",
    "\n",
    "kwargs = {\n",
    "    \"data\": PATH_TO_DATASET_CONFIG,\n",
    "    \"project\": \"models\",\n",
    "    \"name\": \"Run1NoAUG\",\n",
    "    \"exist_ok\": True,\n",
    "    \"plots\": True,\n",
    "            \n",
    "}\n",
    "\n",
    "model_yolo.train(\n",
    "    **(kwargs | hiperparametry)\n",
    ")\n",
    "\n",
    "print(\"Koniec treningu!\")"
   ]
  },
  {
   "cell_type": "markdown",
   "metadata": {},
   "source": [
    "### Walidacja"
   ]
  },
  {
   "cell_type": "code",
   "execution_count": null,
   "metadata": {},
   "outputs": [],
   "source": [
    "model_yolo = YOLO(\"models/Run1NoAUG/weights/best.pt\")\n",
    "\n",
    "metrics_1_val = model_yolo.val(conf=.25, data=PATH_TO_DATASET_CONFIG, split='val', project=\"models\", name=\"Run1NoAUG_val\", exist_ok=True)"
   ]
  },
  {
   "cell_type": "code",
   "execution_count": null,
   "metadata": {},
   "outputs": [],
   "source": [
    "metrics_1_test = model_yolo.val(conf=.25, data=PATH_TO_DATASET_CONFIG, split='test', project=\"models\", name=\"Run1NoAUG_test\", exist_ok=True)"
   ]
  },
  {
   "cell_type": "code",
   "execution_count": null,
   "metadata": {},
   "outputs": [],
   "source": [
    "path = \"models/Run1NoAUG/\"\n",
    "for name in (\n",
    "    \"P_curve.png\",\n",
    "    \"R_curve.png\",\n",
    "    \"F1_curve.png\",\n",
    "    \"PR_curve.png\",\n",
    "):\n",
    "\n",
    "    image = cv.imread(path+name)\n",
    "\n",
    "    image = cv.cvtColor(image, cv.COLOR_BGR2RGB)\n",
    "\n",
    "    plt.imshow(image)\n",
    "    plt.axis('off')\n",
    "\n",
    "    plt.tight_layout()\n",
    "    plt.show()"
   ]
  },
  {
   "cell_type": "markdown",
   "metadata": {},
   "source": [
    "### Augmentacja danych"
   ]
  },
  {
   "cell_type": "code",
   "execution_count": null,
   "metadata": {},
   "outputs": [],
   "source": [
    "image = cv.imread(\"Dataset/train/0.jpg\")\n",
    "\n",
    "h,s,v = cv.split(cv.cvtColor(image, cv.COLOR_BGR2HSV))\n",
    "\n",
    "h = np.mod(h.astype(np.float32)*1.20,180).astype(np.uint8)\n",
    "s = np.clip(s.astype(np.float32)*1.30,0,255).astype(np.uint8)\n",
    "v = np.clip(v.astype(np.float32)*1.50,0,255).astype(np.uint8)\n",
    "\n",
    "image_hsv = cv.merge([h,s,v])\n",
    "\n",
    "image_flip = cv.flip(image, 1)\n",
    "\n",
    "image = cv.cvtColor(image, cv.COLOR_BGR2RGB)\n",
    "image_hsv = cv.cvtColor(image_hsv, cv.COLOR_HSV2RGB)\n",
    "image_flip = cv.cvtColor(image_flip, cv.COLOR_BGR2RGB)\n",
    "\n",
    "\n",
    "fig, axes = plt.subplots(1,3, figsize=(10,5))\n",
    "\n",
    "axes[0].imshow(image)\n",
    "axes[0].axis('off')\n",
    "axes[0].set_title(\"Oryginał\")\n",
    "\n",
    "axes[1].imshow(image_hsv)\n",
    "axes[1].axis('off')\n",
    "axes[1].set_title(\"HSV\")\n",
    "\n",
    "axes[2].imshow(image_flip)\n",
    "axes[2].axis('off')\n",
    "axes[2].set_title(\"Flip\")\n",
    "\n",
    "fig.tight_layout()\n",
    "fig.show()"
   ]
  },
  {
   "cell_type": "markdown",
   "metadata": {},
   "source": [
    "### Trening - z augmentacją danych"
   ]
  },
  {
   "cell_type": "code",
   "execution_count": null,
   "metadata": {},
   "outputs": [],
   "source": [
    "hiperparametry[\"epochs\"] = 30\n",
    "\n",
    "hiperparametry[\"hsv_h\"] = 0.015\n",
    "hiperparametry[\"hsv_s\"] = 0.70\n",
    "hiperparametry[\"hsv_v\"] =  0.40\n",
    "hiperparametry[\"degrees\"] = 5.0\n",
    "hiperparametry[\"translate\"] = 0.15\n",
    "hiperparametry[\"scale\"] = 0.10\n",
    "hiperparametry[\"shear\"] = 0.0\n",
    "hiperparametry[\"perspective\"] = 0.0\n",
    "hiperparametry[\"flipud\"] = 0.50\n",
    "hiperparametry[\"fliplr\"] = 0.50\n",
    "hiperparametry[\"mosaic\"] = 1.0\n",
    "hiperparametry[\"close_mosaic\"] = 5"
   ]
  },
  {
   "cell_type": "code",
   "execution_count": null,
   "metadata": {},
   "outputs": [],
   "source": [
    "model_yolo = YOLO(\"yolo11n\")\n",
    "\n",
    "kwargs = {\n",
    "    \"data\": PATH_TO_DATASET_CONFIG,\n",
    "    \"project\": \"models\",\n",
    "    \"name\": \"Run2WithAUG\",\n",
    "    \"exist_ok\": True,\n",
    "    \"plots\": True,\n",
    "            \n",
    "}\n",
    "\n",
    "model_yolo.train(\n",
    "    **(kwargs | hiperparametry)\n",
    ")\n",
    "\n",
    "print(\"Koniec treningu!\")"
   ]
  },
  {
   "cell_type": "code",
   "execution_count": null,
   "metadata": {},
   "outputs": [],
   "source": [
    "path = \"models/Run2WithAUG/train_batch0.jpg\"\n",
    "\n",
    "image = cv.imread(path)\n",
    "\n",
    "image = cv.cvtColor(image, cv.COLOR_BGR2RGB)\n",
    "\n",
    "plt.imshow(image)\n",
    "plt.axis('off')\n",
    "plt.title(\"Train batch 0\")\n",
    "\n",
    "plt.tight_layout()\n",
    "plt.show()"
   ]
  },
  {
   "cell_type": "markdown",
   "metadata": {},
   "source": [
    "### Walidacja"
   ]
  },
  {
   "cell_type": "code",
   "execution_count": null,
   "metadata": {},
   "outputs": [],
   "source": [
    "model_yolo = YOLO(\"models/Run2WithAUG/weights/best.pt\")\n",
    "\n",
    "metrics_2_val = model_yolo.val(conf=.25, data=PATH_TO_DATASET_CONFIG, split='val', project=\"models\", name=\"Run2WithAUG_val\", exist_ok=True)"
   ]
  },
  {
   "cell_type": "code",
   "execution_count": null,
   "metadata": {},
   "outputs": [],
   "source": [
    "metrics_2_test = model_yolo.val(conf=.25, data=PATH_TO_DATASET_CONFIG, split='test', project=\"models\", name=\"Run2WithAUG_test\", exist_ok=True)"
   ]
  },
  {
   "cell_type": "markdown",
   "metadata": {},
   "source": [
    "### Porównanie treningów"
   ]
  },
  {
   "cell_type": "code",
   "execution_count": null,
   "metadata": {},
   "outputs": [],
   "source": [
    "path1 = \"models/Run1NoAUG/results.png\"\n",
    "path2 = \"models/Run2withAUG/results.png\"\n",
    "\n",
    "image1 = cv.imread(path1)\n",
    "image2 = cv.imread(path2)\n",
    "\n",
    "image1 = cv.cvtColor(image1, cv.COLOR_BGR2RGB)\n",
    "image2 = cv.cvtColor(image2, cv.COLOR_BGR2RGB)\n",
    "\n",
    "fig, axes = plt.subplots(1, 2, figsize=(20, 10))\n",
    "axes[0].imshow(image1)\n",
    "axes[0].axis('off')\n",
    "\n",
    "axes[1].imshow(image2)\n",
    "axes[1].axis('off')\n",
    "\n",
    "plt.show()"
   ]
  },
  {
   "cell_type": "code",
   "execution_count": null,
   "metadata": {},
   "outputs": [],
   "source": [
    "for metric in (\"mAP50\", \"precision\", \"recall\"):\n",
    "    print(f\"{metric}:\")\n",
    "    print(\"\\t       Val    Test\")\n",
    "    print(f\"\\tRun 1: {metrics_1_val.results_dict[f'metrics/{metric}(B)']*100.0:.2f}, {metrics_1_test.results_dict[f'metrics/{metric}(B)']*100.0:.2f}\")\n",
    "    print(f\"\\tRun 2: {metrics_2_val.results_dict[f'metrics/{metric}(B)']*100.0:.2f}, {metrics_2_test.results_dict[f'metrics/{metric}(B)']*100.0:.2f}\")"
   ]
  }
 ],
 "metadata": {
  "kernelspec": {
   "display_name": "Python 3",
   "language": "python",
   "name": "python3"
  },
  "language_info": {
   "codemirror_mode": {
    "name": "ipython",
    "version": 3
   },
   "file_extension": ".py",
   "mimetype": "text/x-python",
   "name": "python",
   "nbconvert_exporter": "python",
   "pygments_lexer": "ipython3",
   "version": "3.11.7"
  }
 },
 "nbformat": 4,
 "nbformat_minor": 2
}
